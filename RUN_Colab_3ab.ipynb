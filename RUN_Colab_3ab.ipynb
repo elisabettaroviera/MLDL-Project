{
  "cells": [
    {
      "cell_type": "markdown",
      "metadata": {
        "id": "-E9qeg-6y1Hu"
      },
      "source": [
        "# PROJECT - SEMANTIC SEGMENTATION"
      ]
    },
    {
      "cell_type": "markdown",
      "metadata": {
        "id": "y6kJGhxzyN6d"
      },
      "source": [
        "## Step 1: Clone your project from Github"
      ]
    },
    {
      "cell_type": "code",
      "execution_count": null,
      "metadata": {
        "colab": {
          "base_uri": "https://localhost:8080/"
        },
        "id": "6Wfm084txMr0",
        "outputId": "7a7a43fb-45d4-4fc9-b382-f46870473ca6"
      },
      "outputs": [],
      "source": [
        "# To clone the repository, run the following command in your terminal:\n",
        "# CHANGE HERE YOUR BRANCH\n",
        "!git clone -b BRANCH https://github.com/elisabettaroviera/MLDL-Project.git"
      ]
    },
    {
      "cell_type": "code",
      "execution_count": null,
      "metadata": {
        "colab": {
          "base_uri": "https://localhost:8080/"
        },
        "id": "MN0lMneJxVz0",
        "outputId": "154b7876-1a40-4348-f008-319056d58905"
      },
      "outputs": [],
      "source": [
        "# To list the present folder in the repository, run:\n",
        "!ls"
      ]
    },
    {
      "cell_type": "code",
      "execution_count": null,
      "metadata": {
        "colab": {
          "base_uri": "https://localhost:8080/"
        },
        "id": "3Pa5nOPxxbDf",
        "outputId": "95f11333-7ac4-4eb1-d6af-a22dd9adcdbe"
      },
      "outputs": [],
      "source": [
        "# To go inside the folder, run:\n",
        "%cd MLDL-Project"
      ]
    },
    {
      "cell_type": "code",
      "execution_count": null,
      "metadata": {},
      "outputs": [],
      "source": [
        "# To update the repository with the latest changes, run:\n",
        "!git pull"
      ]
    },
    {
      "cell_type": "markdown",
      "metadata": {
        "id": "be_4yDyp1Hru"
      },
      "source": [
        "## Step 2: Packages Installation"
      ]
    },
    {
      "cell_type": "code",
      "execution_count": null,
      "metadata": {
        "colab": {
          "base_uri": "https://localhost:8080/"
        },
        "id": "EO9DuAYk1LFR",
        "outputId": "36e29ea5-e70e-465a-f32f-34716b99f779"
      },
      "outputs": [],
      "source": [
        "# To install the required packages, run the following command:\n",
        "!pip install -r requirements.txt"
      ]
    },
    {
      "cell_type": "code",
      "execution_count": null,
      "metadata": {},
      "outputs": [],
      "source": [
        "%env WANDB_API_KEY=a99b701251206c5e11379d8f1674d044e02abf5d\n",
        "# api key Lucia : \"a99b701251206c5e11379d8f1674d044e02abf5d\"\n",
        "# api key Betta: \"ab99b78083822bd7196d659eed02d7d90f630844\"\n",
        "%env MODEL=BiSeNet"
      ]
    },
    {
      "cell_type": "markdown",
      "metadata": {
        "id": "bifSi62Ixrqr"
      },
      "source": [
        "## Step 3: Dataset Setup\n",
        "\n",
        "Download the dataset directly from internet. Choose the dataset that you want to download."
      ]
    },
    {
      "cell_type": "code",
      "execution_count": null,
      "metadata": {},
      "outputs": [],
      "source": [
        "# To download the dataset GTA5, run the following command:\n",
        "!python utils/download_GTA5.py"
      ]
    },
    {
      "cell_type": "code",
      "execution_count": null,
      "metadata": {},
      "outputs": [],
      "source": [
        "!python main3ab_train.py"
      ]
    },
    {
      "cell_type": "code",
      "execution_count": null,
      "metadata": {},
      "outputs": [],
      "source": [
        "# To download the dataset Cityscapes, run the following command:\n",
        "#!python utils/download_Cityscapes.py"
      ]
    },
    {
      "cell_type": "code",
      "execution_count": null,
      "metadata": {},
      "outputs": [],
      "source": [
        "#!python main3ab_val.py"
      ]
    },
    {
      "cell_type": "markdown",
      "metadata": {
        "id": "sqo9Eh79yihI"
      },
      "source": [
        "# Step 4: Train your model and visualize training"
      ]
    },
    {
      "cell_type": "markdown",
      "metadata": {},
      "source": [
        "Understand these lines of code..."
      ]
    },
    {
      "cell_type": "markdown",
      "metadata": {},
      "source": [
        "**To run main.py**\n",
        "\n",
        "We decide to implement a file, _main.py_, that only contains the for loop on the epochs that call the different file containing the training and validation phases."
      ]
    },
    {
      "cell_type": "markdown",
      "metadata": {},
      "source": [
        "### MORE USEFULL COMMAND"
      ]
    },
    {
      "cell_type": "code",
      "execution_count": null,
      "metadata": {},
      "outputs": [],
      "source": [
        "# If we're running more than one training epochs, we can use the following command to clear the cache:\n",
        "#torch.cuda.empty_cache()\n",
        "\n",
        "# To check the memory usage of the GPU, we can use the following commands:\n",
        "#print(torch.cuda.memory_allocated() / 1e6, \"MB\")\n",
        "#print(torch.cuda.memory_reserved() / 1e6, \"MB\")"
      ]
    }
  ],
  "metadata": {
    "accelerator": "GPU",
    "colab": {
      "gpuType": "T4",
      "provenance": []
    },
    "kernelspec": {
      "display_name": "Python 3",
      "name": "python3"
    },
    "language_info": {
      "codemirror_mode": {
        "name": "ipython",
        "version": 3
      },
      "file_extension": ".py",
      "mimetype": "text/x-python",
      "name": "python",
      "nbconvert_exporter": "python",
      "pygments_lexer": "ipython3",
      "version": "3.13.0"
    }
  },
  "nbformat": 4,
  "nbformat_minor": 0
}
